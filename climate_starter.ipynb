{
 "cells": [
  {
   "cell_type": "code",
   "execution_count": 1,
   "metadata": {},
   "outputs": [],
   "source": [
    "%matplotlib inline\n",
    "from matplotlib import style\n",
    "style.use('fivethirtyeight')\n",
    "import matplotlib.pyplot as plt"
   ]
  },
  {
   "cell_type": "code",
   "execution_count": 2,
   "metadata": {},
   "outputs": [],
   "source": [
    "import numpy as np\n",
    "import pandas as pd\n",
    "import datetime as dt"
   ]
  },
  {
   "cell_type": "markdown",
   "metadata": {},
   "source": [
    "# Reflect Tables into SQLAlchemy ORM"
   ]
  },
  {
   "cell_type": "code",
   "execution_count": 3,
   "metadata": {},
   "outputs": [],
   "source": [
    "# Python SQL toolkit and Object Relational Mapper\n",
    "import sqlalchemy\n",
    "from sqlalchemy.ext.automap import automap_base\n",
    "from sqlalchemy.orm import Session\n",
    "from sqlalchemy import create_engine, func"
   ]
  },
  {
   "cell_type": "code",
   "execution_count": 6,
   "metadata": {},
   "outputs": [],
   "source": [
    "engine = create_engine(\"sqlite:///hawaii.sqlite\")"
   ]
  },
  {
   "cell_type": "code",
   "execution_count": 7,
   "metadata": {},
   "outputs": [],
   "source": [
    "# reflect an existing database into a new model\n",
    "Base = automap_base()\n",
    "\n",
    "# reflect the tables\n",
    "Base.prepare(engine, reflect=True)"
   ]
  },
  {
   "cell_type": "code",
   "execution_count": 8,
   "metadata": {},
   "outputs": [
    {
     "data": {
      "text/plain": [
       "['measurement', 'station']"
      ]
     },
     "execution_count": 8,
     "metadata": {},
     "output_type": "execute_result"
    }
   ],
   "source": [
    "# View all of the classes that automap found\n",
    "Base.classes.keys()"
   ]
  },
  {
   "cell_type": "code",
   "execution_count": 9,
   "metadata": {},
   "outputs": [],
   "source": [
    "# Save references to each table\n",
    "Measurement = Base.classes.measurement\n",
    "Station = Base.classes.station"
   ]
  },
  {
   "cell_type": "code",
   "execution_count": 11,
   "metadata": {},
   "outputs": [],
   "source": [
    "# Create our session (link) from Python to the DB\n",
    "session = Session(engine)"
   ]
  },
  {
   "cell_type": "markdown",
   "metadata": {},
   "source": [
    "# Exploratory Precipitation Analysis"
   ]
  },
  {
   "cell_type": "markdown",
   "metadata": {},
   "source": [
    "## GRADER PLEASE NOTE\n",
    "\n",
    "* Some of the instructions are different from the original but still adhere to the rubric.\n",
    "* The students get the average precipitation per day instead of every single precipitation value."
   ]
  },
  {
   "cell_type": "code",
   "execution_count": null,
   "metadata": {},
   "outputs": [],
   "source": [
    "#usa = session.query(BaseballPlayer).\\\n",
    "#    filter(BaseballPlayer.birth_country == 'USA').count()\n",
    "#print(f\"There are {usa} players from the USA\")"
   ]
  },
  {
   "cell_type": "code",
   "execution_count": 19,
   "metadata": {},
   "outputs": [
    {
     "data": {
      "text/plain": [
       "{'_sa_instance_state': <sqlalchemy.orm.state.InstanceState at 0x7fa1d93b8520>,\n",
       " 'tobs': 65.0,\n",
       " 'prcp': 0.08,\n",
       " 'station': 'USC00519397',\n",
       " 'date': '2010-01-01',\n",
       " 'id': 1}"
      ]
     },
     "execution_count": 19,
     "metadata": {},
     "output_type": "execute_result"
    }
   ],
   "source": [
    "session.query(Measurement).first().__dict__"
   ]
  },
  {
   "cell_type": "code",
   "execution_count": 21,
   "metadata": {},
   "outputs": [
    {
     "data": {
      "text/plain": [
       "('2017-08-23')"
      ]
     },
     "execution_count": 21,
     "metadata": {},
     "output_type": "execute_result"
    }
   ],
   "source": [
    "# Find the most recent date in the data set.\n",
    "session.query(Measurement.date).\\\n",
    "    order_by(Measurement.date.desc()).first()"
   ]
  },
  {
   "cell_type": "code",
   "execution_count": 44,
   "metadata": {},
   "outputs": [],
   "source": [
    "# Using this date, find the average precipitation per day\n",
    "# for the preceding 12 months of data sorted by ascending date.\n",
    "s = session.query(Measurement.date,func.avg(Measurement.prcp)).\\\n",
    "    order_by(Measurement.date.desc()).group_by(Measurement.date).limit(365).all()"
   ]
  },
  {
   "cell_type": "code",
   "execution_count": 47,
   "metadata": {},
   "outputs": [
    {
     "data": {
      "text/plain": [
       "[('2017-08-23', 0.1325),\n",
       " ('2017-08-22', 0.16666666666666666),\n",
       " ('2017-08-21', 0.19333333333333336),\n",
       " ('2017-08-20', 0.005),\n",
       " ('2017-08-19', 0.03),\n",
       " ('2017-08-18', 0.02),\n",
       " ('2017-08-17', 0.0475),\n",
       " ('2017-08-16', 0.1525),\n",
       " ('2017-08-15', 0.164),\n",
       " ('2017-08-14', 0.062),\n",
       " ('2017-08-13', 0.0),\n",
       " ('2017-08-12', 0.04666666666666667),\n",
       " ('2017-08-11', 0.0),\n",
       " ('2017-08-10', 0.0175),\n",
       " ('2017-08-09', 0.049999999999999996),\n",
       " ('2017-08-08', 0.11000000000000001),\n",
       " ('2017-08-07', 0.0125),\n",
       " ('2017-08-06', 0.0),\n",
       " ('2017-08-05', 0.03),\n",
       " ('2017-08-04', 0.015),\n",
       " ('2017-08-03', 0.017499999999999998),\n",
       " ('2017-08-02', 0.075),\n",
       " ('2017-08-01', 0.04666666666666666),\n",
       " ('2017-07-31', 0.0),\n",
       " ('2017-07-30', 0.06),\n",
       " ('2017-07-29', 0.10166666666666667),\n",
       " ('2017-07-28', 0.11),\n",
       " ('2017-07-27', 0.0016666666666666668),\n",
       " ('2017-07-26', 0.08333333333333333),\n",
       " ('2017-07-25', 0.08714285714285715),\n",
       " ('2017-07-24', 0.6539999999999999),\n",
       " ('2017-07-23', 0.22600000000000003),\n",
       " ('2017-07-22', 0.7366666666666667),\n",
       " ('2017-07-21', 0.018571428571428572),\n",
       " ('2017-07-20', 0.17714285714285713),\n",
       " ('2017-07-19', 0.06833333333333334),\n",
       " ('2017-07-18', 0.3614285714285714),\n",
       " ('2017-07-17', 0.15166666666666667),\n",
       " ('2017-07-16', 0.135),\n",
       " ('2017-07-15', 0.03166666666666667),\n",
       " ('2017-07-14', 0.15833333333333335),\n",
       " ('2017-07-13', 0.3016666666666667),\n",
       " ('2017-07-12', 0.060000000000000005),\n",
       " ('2017-07-11', 0.005),\n",
       " ('2017-07-10', 0.006666666666666667),\n",
       " ('2017-07-09', 0.03333333333333333),\n",
       " ('2017-07-08', 0.016666666666666666),\n",
       " ('2017-07-07', 0.1),\n",
       " ('2017-07-06', 0.004),\n",
       " ('2017-07-05', 0.0),\n",
       " ('2017-07-04', 0.037500000000000006),\n",
       " ('2017-07-03', 0.148),\n",
       " ('2017-07-02', 0.18),\n",
       " ('2017-07-01', 0.065),\n",
       " ('2017-06-30', 0.07428571428571429),\n",
       " ('2017-06-29', 0.011666666666666667),\n",
       " ('2017-06-28', 0.005),\n",
       " ('2017-06-27', 0.018333333333333333),\n",
       " ('2017-06-26', 0.02),\n",
       " ('2017-06-25', 0.12),\n",
       " ('2017-06-24', 0.128),\n",
       " ('2017-06-23', 0.11166666666666665),\n",
       " ('2017-06-22', 0.07333333333333335),\n",
       " ('2017-06-21', 0.1275),\n",
       " ('2017-06-20', 0.11000000000000001),\n",
       " ('2017-06-19', 0.12166666666666666),\n",
       " ('2017-06-18', 0.23666666666666666),\n",
       " ('2017-06-17', 0.09000000000000001),\n",
       " ('2017-06-16', 0.03333333333333333),\n",
       " ('2017-06-15', 0.45166666666666666),\n",
       " ('2017-06-14', 0.26166666666666666),\n",
       " ('2017-06-13', 0.22999999999999998),\n",
       " ('2017-06-12', 0.2916666666666667),\n",
       " ('2017-06-11', 0.35833333333333334),\n",
       " ('2017-06-10', 0.306),\n",
       " ('2017-06-09', 0.008),\n",
       " ('2017-06-08', 0.005),\n",
       " ('2017-06-07', 0.0016666666666666668),\n",
       " ('2017-06-06', 0.0),\n",
       " ('2017-06-05', 0.013333333333333334),\n",
       " ('2017-06-04', 0.19166666666666665),\n",
       " ('2017-06-03', 0.122),\n",
       " ('2017-06-02', 0.06799999999999999),\n",
       " ('2017-06-01', 0.006666666666666667),\n",
       " ('2017-05-31', 0.074),\n",
       " ('2017-05-30', 0.346),\n",
       " ('2017-05-29', 0.084),\n",
       " ('2017-05-28', 0.06833333333333334),\n",
       " ('2017-05-27', 0.085),\n",
       " ('2017-05-26', 0.004),\n",
       " ('2017-05-25', 0.37000000000000005),\n",
       " ('2017-05-24', 0.6483333333333333),\n",
       " ('2017-05-23', 0.11833333333333333),\n",
       " ('2017-05-22', 0.072),\n",
       " ('2017-05-21', 0.002),\n",
       " ('2017-05-20', 0.0075),\n",
       " ('2017-05-19', 0.01),\n",
       " ('2017-05-18', 0.14166666666666666),\n",
       " ('2017-05-17', 0.025000000000000005),\n",
       " ('2017-05-16', 0.06999999999999999),\n",
       " ('2017-05-15', 0.176),\n",
       " ('2017-05-14', 0.244),\n",
       " ('2017-05-13', 0.048),\n",
       " ('2017-05-12', 0.032),\n",
       " ('2017-05-11', 0.12),\n",
       " ('2017-05-10', 0.14333333333333334),\n",
       " ('2017-05-09', 0.9260000000000002),\n",
       " ('2017-05-08', 0.5016666666666666),\n",
       " ('2017-05-07', 0.024),\n",
       " ('2017-05-06', 0.01),\n",
       " ('2017-05-05', 0.06333333333333334),\n",
       " ('2017-05-04', 0.016),\n",
       " ('2017-05-03', 0.006),\n",
       " ('2017-05-02', 0.008333333333333333),\n",
       " ('2017-05-01', 0.135),\n",
       " ('2017-04-30', 1.07),\n",
       " ('2017-04-29', 1.3399999999999999),\n",
       " ('2017-04-28', 0.7066666666666667),\n",
       " ('2017-04-27', 0.06999999999999999),\n",
       " ('2017-04-26', 0.065),\n",
       " ('2017-04-25', 0.0),\n",
       " ('2017-04-24', 0.015000000000000001),\n",
       " ('2017-04-23', 0.11499999999999999),\n",
       " ('2017-04-22', 0.9920000000000002),\n",
       " ('2017-04-21', 1.3966666666666667),\n",
       " ('2017-04-20', 0.13),\n",
       " ('2017-04-19', 0.03333333333333333),\n",
       " ('2017-04-18', 0.48),\n",
       " ('2017-04-17', 0.6140000000000001),\n",
       " ('2017-04-16', 0.21400000000000002),\n",
       " ('2017-04-15', 0.34800000000000003),\n",
       " ('2017-04-14', 1.1199999999999999),\n",
       " ('2017-04-13', 0.18166666666666667),\n",
       " ('2017-04-12', 0.18000000000000002),\n",
       " ('2017-04-11', 0.07833333333333332),\n",
       " ('2017-04-10', 0.0033333333333333335),\n",
       " ('2017-04-09', 0.0),\n",
       " ('2017-04-08', 0.0),\n",
       " ('2017-04-07', 0.0),\n",
       " ('2017-04-06', 0.008571428571428572),\n",
       " ('2017-04-05', 0.09428571428571429),\n",
       " ('2017-04-04', 0.02142857142857143),\n",
       " ('2017-04-03', 0.11),\n",
       " ('2017-04-02', 0.0),\n",
       " ('2017-04-01', 0.06833333333333334),\n",
       " ('2017-03-31', 0.0016666666666666668),\n",
       " ('2017-03-30', 0.03),\n",
       " ('2017-03-29', 0.03166666666666667),\n",
       " ('2017-03-28', 0.11833333333333335),\n",
       " ('2017-03-27', 0.002),\n",
       " ('2017-03-26', 0.0),\n",
       " ('2017-03-25', 0.394),\n",
       " ('2017-03-24', 0.18833333333333335),\n",
       " ('2017-03-23', 0.008333333333333333),\n",
       " ('2017-03-22', 0.0),\n",
       " ('2017-03-21', 0.015),\n",
       " ('2017-03-20', 0.004),\n",
       " ('2017-03-19', 0.0),\n",
       " ('2017-03-18', 0.0),\n",
       " ('2017-03-17', 0.144),\n",
       " ('2017-03-16', 0.0),\n",
       " ('2017-03-15', 0.01),\n",
       " ('2017-03-14', 0.008571428571428572),\n",
       " ('2017-03-13', 0.0),\n",
       " ('2017-03-12', 0.0),\n",
       " ('2017-03-11', 0.008),\n",
       " ('2017-03-10', 0.04142857142857143),\n",
       " ('2017-03-09', 0.3266666666666667),\n",
       " ('2017-03-08', 0.0),\n",
       " ('2017-03-07', 0.0),\n",
       " ('2017-03-06', 0.135),\n",
       " ('2017-03-05', 0.3025),\n",
       " ('2017-03-04', 0.0),\n",
       " ('2017-03-03', 0.37166666666666665),\n",
       " ('2017-03-02', 1.0933333333333333),\n",
       " ('2017-03-01', 1.6600000000000001),\n",
       " ('2017-02-28', 0.13666666666666666),\n",
       " ('2017-02-27', 0.0),\n",
       " ('2017-02-26', 0.0),\n",
       " ('2017-02-25', 0.0375),\n",
       " ('2017-02-24', 0.0),\n",
       " ('2017-02-23', 0.0014285714285714286),\n",
       " ('2017-02-22', 0.13000000000000003),\n",
       " ('2017-02-21', 0.026000000000000002),\n",
       " ('2017-02-20', 0.0),\n",
       " ('2017-02-19', 0.0475),\n",
       " ('2017-02-18', 0.0025),\n",
       " ('2017-02-17', 0.17500000000000004),\n",
       " ('2017-02-16', 0.36999999999999994),\n",
       " ('2017-02-15', 0.016),\n",
       " ('2017-02-14', 0.0016666666666666668),\n",
       " ('2017-02-13', 0.4866666666666666),\n",
       " ('2017-02-12', 1.7466666666666668),\n",
       " ('2017-02-11', 1.866666666666667),\n",
       " ('2017-02-10', 0.0),\n",
       " ('2017-02-09', 0.002857142857142857),\n",
       " ('2017-02-08', 0.1542857142857143),\n",
       " ('2017-02-07', 1.0571428571428572),\n",
       " ('2017-02-06', 0.06333333333333334),\n",
       " ('2017-02-05', 0.0),\n",
       " ('2017-02-04', 0.0),\n",
       " ('2017-02-03', 0.0),\n",
       " ('2017-02-02', 0.0),\n",
       " ('2017-02-01', 0.0),\n",
       " ('2017-01-31', 0.0),\n",
       " ('2017-01-30', 0.008333333333333333),\n",
       " ('2017-01-29', 0.2475),\n",
       " ('2017-01-28', 0.028000000000000004),\n",
       " ('2017-01-27', 0.008571428571428572),\n",
       " ('2017-01-26', 0.015714285714285715),\n",
       " ('2017-01-25', 0.716),\n",
       " ('2017-01-24', 0.45),\n",
       " ('2017-01-23', 0.188),\n",
       " ('2017-01-22', 0.20400000000000001),\n",
       " ('2017-01-21', 0.04666666666666666),\n",
       " ('2017-01-20', 0.0),\n",
       " ('2017-01-19', 0.0033333333333333335),\n",
       " ('2017-01-18', 0.011666666666666667),\n",
       " ('2017-01-17', 0.0),\n",
       " ('2017-01-16', 0.0),\n",
       " ('2017-01-15', 0.0025),\n",
       " ('2017-01-14', 0.002),\n",
       " ('2017-01-13', 0.0),\n",
       " ('2017-01-12', 0.0),\n",
       " ('2017-01-11', 0.0),\n",
       " ('2017-01-10', 0.0),\n",
       " ('2017-01-09', 0.0),\n",
       " ('2017-01-08', 0.01),\n",
       " ('2017-01-07', 0.01),\n",
       " ('2017-01-06', 0.13333333333333333),\n",
       " ('2017-01-05', 0.15833333333333333),\n",
       " ('2017-01-04', 0.03),\n",
       " ('2017-01-03', 0.0),\n",
       " ('2017-01-02', 0.004),\n",
       " ('2017-01-01', 0.06999999999999999),\n",
       " ('2016-12-31', 0.42800000000000005),\n",
       " ('2016-12-30', 0.5583333333333333),\n",
       " ('2016-12-29', 0.39666666666666667),\n",
       " ('2016-12-28', 0.06833333333333334),\n",
       " ('2016-12-27', 0.04),\n",
       " ('2016-12-26', 0.40800000000000003),\n",
       " ('2016-12-25', 0.086),\n",
       " ('2016-12-24', 0.27),\n",
       " ('2016-12-23', 0.205),\n",
       " ('2016-12-22', 0.4116666666666666),\n",
       " ('2016-12-21', 0.1285714285714286),\n",
       " ('2016-12-20', 0.005),\n",
       " ('2016-12-19', 0.07),\n",
       " ('2016-12-18', 0.178),\n",
       " ('2016-12-17', 0.07),\n",
       " ('2016-12-16', 0.006666666666666667),\n",
       " ('2016-12-15', 0.043333333333333335),\n",
       " ('2016-12-14', 0.25),\n",
       " ('2016-12-13', 0.12833333333333333),\n",
       " ('2016-12-12', 0.008333333333333333),\n",
       " ('2016-12-11', 0.05),\n",
       " ('2016-12-10', 0.026000000000000002),\n",
       " ('2016-12-09', 0.37),\n",
       " ('2016-12-08', 0.06571428571428573),\n",
       " ('2016-12-07', 0.076),\n",
       " ('2016-12-06', 0.008),\n",
       " ('2016-12-05', 0.54),\n",
       " ('2016-12-04', 0.13333333333333333),\n",
       " ('2016-12-03', 0.45166666666666666),\n",
       " ('2016-12-02', 0.3933333333333333),\n",
       " ('2016-12-01', 0.295),\n",
       " ('2016-11-30', 0.17666666666666667),\n",
       " ('2016-11-29', 0.07166666666666667),\n",
       " ('2016-11-28', 0.12),\n",
       " ('2016-11-27', 0.09166666666666667),\n",
       " ('2016-11-26', 0.085),\n",
       " ('2016-11-25', 0.264),\n",
       " ('2016-11-24', 0.296),\n",
       " ('2016-11-23', 0.134),\n",
       " ('2016-11-22', 1.002),\n",
       " ('2016-11-21', 0.616),\n",
       " ('2016-11-20', 0.23750000000000002),\n",
       " ('2016-11-19', 0.095),\n",
       " ('2016-11-18', 0.0075),\n",
       " ('2016-11-17', 0.01),\n",
       " ('2016-11-16', 0.25666666666666665),\n",
       " ('2016-11-15', 0.008333333333333333),\n",
       " ('2016-11-14', 0.02142857142857143),\n",
       " ('2016-11-13', 0.0),\n",
       " ('2016-11-12', 0.0),\n",
       " ('2016-11-11', 0.0),\n",
       " ('2016-11-10', 0.0016666666666666668),\n",
       " ('2016-11-09', 0.05714285714285714),\n",
       " ('2016-11-08', 0.18666666666666668),\n",
       " ('2016-11-07', 0.03),\n",
       " ('2016-11-06', 0.013333333333333334),\n",
       " ('2016-11-05', 0.075),\n",
       " ('2016-11-04', 0.01),\n",
       " ('2016-11-03', 0.0033333333333333335),\n",
       " ('2016-11-02', 0.006666666666666667),\n",
       " ('2016-11-01', 0.035),\n",
       " ('2016-10-31', 0.26833333333333337),\n",
       " ('2016-10-30', 0.26499999999999996),\n",
       " ('2016-10-29', 0.10666666666666667),\n",
       " ('2016-10-28', 0.09500000000000001),\n",
       " ('2016-10-27', 0.31),\n",
       " ('2016-10-26', 0.04833333333333334),\n",
       " ('2016-10-25', 0.15714285714285717),\n",
       " ('2016-10-24', 0.13166666666666665),\n",
       " ('2016-10-23', 0.055999999999999994),\n",
       " ('2016-10-22', 0.354),\n",
       " ('2016-10-21', 0.064),\n",
       " ('2016-10-20', 0.202),\n",
       " ('2016-10-19', 0.028333333333333332),\n",
       " ('2016-10-18', 0.09999999999999999),\n",
       " ('2016-10-17', 0.11000000000000001),\n",
       " ('2016-10-16', 0.0),\n",
       " ('2016-10-15', 0.065),\n",
       " ('2016-10-14', 0.0),\n",
       " ('2016-10-13', 0.013333333333333334),\n",
       " ('2016-10-12', 0.013333333333333334),\n",
       " ('2016-10-11', 0.11499999999999999),\n",
       " ('2016-10-10', 0.0),\n",
       " ('2016-10-09', 0.0),\n",
       " ('2016-10-08', 0.008),\n",
       " ('2016-10-07', 0.0016666666666666668),\n",
       " ('2016-10-06', 0.022857142857142857),\n",
       " ('2016-10-05', 0.1366666666666667),\n",
       " ('2016-10-04', 0.5816666666666667),\n",
       " ('2016-10-03', 0.115),\n",
       " ('2016-10-02', 0.12),\n",
       " ('2016-10-01', 0.2416666666666667),\n",
       " ('2016-09-30', 0.19166666666666665),\n",
       " ('2016-09-29', 0.42714285714285716),\n",
       " ('2016-09-28', 0.018571428571428572),\n",
       " ('2016-09-27', 0.22666666666666666),\n",
       " ('2016-09-26', 0.2783333333333333),\n",
       " ('2016-09-25', 0.015),\n",
       " ('2016-09-24', 0.04666666666666667),\n",
       " ('2016-09-23', 0.22428571428571428),\n",
       " ('2016-09-22', 0.2057142857142857),\n",
       " ('2016-09-21', 0.19499999999999998),\n",
       " ('2016-09-20', 0.14714285714285716),\n",
       " ('2016-09-19', 0.064),\n",
       " ('2016-09-18', 0.10600000000000001),\n",
       " ('2016-09-17', 0.13599999999999998),\n",
       " ('2016-09-16', 0.11714285714285715),\n",
       " ('2016-09-15', 0.8266666666666667),\n",
       " ('2016-09-14', 2.3800000000000003),\n",
       " ('2016-09-13', 0.45166666666666666),\n",
       " ('2016-09-12', 0.308),\n",
       " ('2016-09-11', 0.25),\n",
       " ('2016-09-10', 0.27999999999999997),\n",
       " ('2016-09-09', 0.17833333333333332),\n",
       " ('2016-09-08', 0.07666666666666667),\n",
       " ('2016-09-07', 0.3333333333333333),\n",
       " ('2016-09-06', 0.246),\n",
       " ('2016-09-05', 0.08499999999999999),\n",
       " ('2016-09-04', 0.276),\n",
       " ('2016-09-03', 0.254),\n",
       " ('2016-09-02', 0.05),\n",
       " ('2016-09-01', 0.006),\n",
       " ('2016-08-31', 0.6359999999999999),\n",
       " ('2016-08-30', 0.011666666666666667),\n",
       " ('2016-08-29', 0.24333333333333332),\n",
       " ('2016-08-28', 0.5166666666666666),\n",
       " ('2016-08-27', 0.06399999999999999),\n",
       " ('2016-08-26', 0.016666666666666666),\n",
       " ('2016-08-25', 0.07714285714285715),\n",
       " ('2016-08-24', 1.5549999999999997)]"
      ]
     },
     "execution_count": 47,
     "metadata": {},
     "output_type": "execute_result"
    }
   ],
   "source": [
    "s"
   ]
  },
  {
   "cell_type": "code",
   "execution_count": 46,
   "metadata": {},
   "outputs": [
    {
     "data": {
      "text/plain": [
       "365"
      ]
     },
     "execution_count": 46,
     "metadata": {},
     "output_type": "execute_result"
    }
   ],
   "source": [
    "len(s)"
   ]
  },
  {
   "cell_type": "code",
   "execution_count": 52,
   "metadata": {},
   "outputs": [
    {
     "ename": "ValueError",
     "evalue": "1 columns passed, passed data had 2 columns",
     "output_type": "error",
     "traceback": [
      "\u001b[0;31m---------------------------------------------------------------------------\u001b[0m",
      "\u001b[0;31mAssertionError\u001b[0m                            Traceback (most recent call last)",
      "\u001b[0;32m~/opt/anaconda3/lib/python3.8/site-packages/pandas/core/internals/construction.py\u001b[0m in \u001b[0;36m_list_to_arrays\u001b[0;34m(data, columns, coerce_float, dtype)\u001b[0m\n\u001b[1;32m    563\u001b[0m     \u001b[0;32mtry\u001b[0m\u001b[0;34m:\u001b[0m\u001b[0;34m\u001b[0m\u001b[0;34m\u001b[0m\u001b[0m\n\u001b[0;32m--> 564\u001b[0;31m         \u001b[0mcolumns\u001b[0m \u001b[0;34m=\u001b[0m \u001b[0m_validate_or_indexify_columns\u001b[0m\u001b[0;34m(\u001b[0m\u001b[0mcontent\u001b[0m\u001b[0;34m,\u001b[0m \u001b[0mcolumns\u001b[0m\u001b[0;34m)\u001b[0m\u001b[0;34m\u001b[0m\u001b[0;34m\u001b[0m\u001b[0m\n\u001b[0m\u001b[1;32m    565\u001b[0m         \u001b[0mresult\u001b[0m \u001b[0;34m=\u001b[0m \u001b[0m_convert_object_array\u001b[0m\u001b[0;34m(\u001b[0m\u001b[0mcontent\u001b[0m\u001b[0;34m,\u001b[0m \u001b[0mdtype\u001b[0m\u001b[0;34m=\u001b[0m\u001b[0mdtype\u001b[0m\u001b[0;34m,\u001b[0m \u001b[0mcoerce_float\u001b[0m\u001b[0;34m=\u001b[0m\u001b[0mcoerce_float\u001b[0m\u001b[0;34m)\u001b[0m\u001b[0;34m\u001b[0m\u001b[0;34m\u001b[0m\u001b[0m\n",
      "\u001b[0;32m~/opt/anaconda3/lib/python3.8/site-packages/pandas/core/internals/construction.py\u001b[0m in \u001b[0;36m_validate_or_indexify_columns\u001b[0;34m(content, columns)\u001b[0m\n\u001b[1;32m    687\u001b[0m             \u001b[0;31m# caller's responsibility to check for this...\u001b[0m\u001b[0;34m\u001b[0m\u001b[0;34m\u001b[0m\u001b[0;34m\u001b[0m\u001b[0m\n\u001b[0;32m--> 688\u001b[0;31m             raise AssertionError(\n\u001b[0m\u001b[1;32m    689\u001b[0m                 \u001b[0;34mf\"{len(columns)} columns passed, passed data had \"\u001b[0m\u001b[0;34m\u001b[0m\u001b[0;34m\u001b[0m\u001b[0m\n",
      "\u001b[0;31mAssertionError\u001b[0m: 1 columns passed, passed data had 2 columns",
      "\nThe above exception was the direct cause of the following exception:\n",
      "\u001b[0;31mValueError\u001b[0m                                Traceback (most recent call last)",
      "\u001b[0;32m<ipython-input-52-b6d64345e0c3>\u001b[0m in \u001b[0;36m<module>\u001b[0;34m\u001b[0m\n\u001b[1;32m      1\u001b[0m \u001b[0;31m# Convert your results into a pandas DataFrame with date as index.\u001b[0m\u001b[0;34m\u001b[0m\u001b[0;34m\u001b[0m\u001b[0;34m\u001b[0m\u001b[0m\n\u001b[0;32m----> 2\u001b[0;31m df = pd.DataFrame(session.query(Measurement.prcp, func.avg(Measurement.prcp)).\\\n\u001b[0m\u001b[1;32m      3\u001b[0m     order_by(Measurement.date.desc()).group_by(Measurement.date).limit(365))\n",
      "\u001b[0;32m~/opt/anaconda3/lib/python3.8/site-packages/pandas/core/frame.py\u001b[0m in \u001b[0;36m__init__\u001b[0;34m(self, data, index, columns, dtype, copy)\u001b[0m\n\u001b[1;32m    507\u001b[0m                     \u001b[0;32mif\u001b[0m \u001b[0mis_named_tuple\u001b[0m\u001b[0;34m(\u001b[0m\u001b[0mdata\u001b[0m\u001b[0;34m[\u001b[0m\u001b[0;36m0\u001b[0m\u001b[0;34m]\u001b[0m\u001b[0;34m)\u001b[0m \u001b[0;32mand\u001b[0m \u001b[0mcolumns\u001b[0m \u001b[0;32mis\u001b[0m \u001b[0;32mNone\u001b[0m\u001b[0;34m:\u001b[0m\u001b[0;34m\u001b[0m\u001b[0;34m\u001b[0m\u001b[0m\n\u001b[1;32m    508\u001b[0m                         \u001b[0mcolumns\u001b[0m \u001b[0;34m=\u001b[0m \u001b[0mdata\u001b[0m\u001b[0;34m[\u001b[0m\u001b[0;36m0\u001b[0m\u001b[0;34m]\u001b[0m\u001b[0;34m.\u001b[0m\u001b[0m_fields\u001b[0m\u001b[0;34m\u001b[0m\u001b[0;34m\u001b[0m\u001b[0m\n\u001b[0;32m--> 509\u001b[0;31m                     \u001b[0marrays\u001b[0m\u001b[0;34m,\u001b[0m \u001b[0mcolumns\u001b[0m \u001b[0;34m=\u001b[0m \u001b[0mto_arrays\u001b[0m\u001b[0;34m(\u001b[0m\u001b[0mdata\u001b[0m\u001b[0;34m,\u001b[0m \u001b[0mcolumns\u001b[0m\u001b[0;34m,\u001b[0m \u001b[0mdtype\u001b[0m\u001b[0;34m=\u001b[0m\u001b[0mdtype\u001b[0m\u001b[0;34m)\u001b[0m\u001b[0;34m\u001b[0m\u001b[0;34m\u001b[0m\u001b[0m\n\u001b[0m\u001b[1;32m    510\u001b[0m                     \u001b[0mcolumns\u001b[0m \u001b[0;34m=\u001b[0m \u001b[0mensure_index\u001b[0m\u001b[0;34m(\u001b[0m\u001b[0mcolumns\u001b[0m\u001b[0;34m)\u001b[0m\u001b[0;34m\u001b[0m\u001b[0;34m\u001b[0m\u001b[0m\n\u001b[1;32m    511\u001b[0m \u001b[0;34m\u001b[0m\u001b[0m\n",
      "\u001b[0;32m~/opt/anaconda3/lib/python3.8/site-packages/pandas/core/internals/construction.py\u001b[0m in \u001b[0;36mto_arrays\u001b[0;34m(data, columns, coerce_float, dtype)\u001b[0m\n\u001b[1;32m    522\u001b[0m         \u001b[0;32mreturn\u001b[0m \u001b[0;34m[\u001b[0m\u001b[0;34m]\u001b[0m\u001b[0;34m,\u001b[0m \u001b[0;34m[\u001b[0m\u001b[0;34m]\u001b[0m  \u001b[0;31m# columns if columns is not None else []\u001b[0m\u001b[0;34m\u001b[0m\u001b[0;34m\u001b[0m\u001b[0m\n\u001b[1;32m    523\u001b[0m     \u001b[0;32mif\u001b[0m \u001b[0misinstance\u001b[0m\u001b[0;34m(\u001b[0m\u001b[0mdata\u001b[0m\u001b[0;34m[\u001b[0m\u001b[0;36m0\u001b[0m\u001b[0;34m]\u001b[0m\u001b[0;34m,\u001b[0m \u001b[0;34m(\u001b[0m\u001b[0mlist\u001b[0m\u001b[0;34m,\u001b[0m \u001b[0mtuple\u001b[0m\u001b[0;34m)\u001b[0m\u001b[0;34m)\u001b[0m\u001b[0;34m:\u001b[0m\u001b[0;34m\u001b[0m\u001b[0;34m\u001b[0m\u001b[0m\n\u001b[0;32m--> 524\u001b[0;31m         \u001b[0;32mreturn\u001b[0m \u001b[0m_list_to_arrays\u001b[0m\u001b[0;34m(\u001b[0m\u001b[0mdata\u001b[0m\u001b[0;34m,\u001b[0m \u001b[0mcolumns\u001b[0m\u001b[0;34m,\u001b[0m \u001b[0mcoerce_float\u001b[0m\u001b[0;34m=\u001b[0m\u001b[0mcoerce_float\u001b[0m\u001b[0;34m,\u001b[0m \u001b[0mdtype\u001b[0m\u001b[0;34m=\u001b[0m\u001b[0mdtype\u001b[0m\u001b[0;34m)\u001b[0m\u001b[0;34m\u001b[0m\u001b[0;34m\u001b[0m\u001b[0m\n\u001b[0m\u001b[1;32m    525\u001b[0m     \u001b[0;32melif\u001b[0m \u001b[0misinstance\u001b[0m\u001b[0;34m(\u001b[0m\u001b[0mdata\u001b[0m\u001b[0;34m[\u001b[0m\u001b[0;36m0\u001b[0m\u001b[0;34m]\u001b[0m\u001b[0;34m,\u001b[0m \u001b[0mabc\u001b[0m\u001b[0;34m.\u001b[0m\u001b[0mMapping\u001b[0m\u001b[0;34m)\u001b[0m\u001b[0;34m:\u001b[0m\u001b[0;34m\u001b[0m\u001b[0;34m\u001b[0m\u001b[0m\n\u001b[1;32m    526\u001b[0m         return _list_of_dict_to_arrays(\n",
      "\u001b[0;32m~/opt/anaconda3/lib/python3.8/site-packages/pandas/core/internals/construction.py\u001b[0m in \u001b[0;36m_list_to_arrays\u001b[0;34m(data, columns, coerce_float, dtype)\u001b[0m\n\u001b[1;32m    565\u001b[0m         \u001b[0mresult\u001b[0m \u001b[0;34m=\u001b[0m \u001b[0m_convert_object_array\u001b[0m\u001b[0;34m(\u001b[0m\u001b[0mcontent\u001b[0m\u001b[0;34m,\u001b[0m \u001b[0mdtype\u001b[0m\u001b[0;34m=\u001b[0m\u001b[0mdtype\u001b[0m\u001b[0;34m,\u001b[0m \u001b[0mcoerce_float\u001b[0m\u001b[0;34m=\u001b[0m\u001b[0mcoerce_float\u001b[0m\u001b[0;34m)\u001b[0m\u001b[0;34m\u001b[0m\u001b[0;34m\u001b[0m\u001b[0m\n\u001b[1;32m    566\u001b[0m     \u001b[0;32mexcept\u001b[0m \u001b[0mAssertionError\u001b[0m \u001b[0;32mas\u001b[0m \u001b[0me\u001b[0m\u001b[0;34m:\u001b[0m\u001b[0;34m\u001b[0m\u001b[0;34m\u001b[0m\u001b[0m\n\u001b[0;32m--> 567\u001b[0;31m         \u001b[0;32mraise\u001b[0m \u001b[0mValueError\u001b[0m\u001b[0;34m(\u001b[0m\u001b[0me\u001b[0m\u001b[0;34m)\u001b[0m \u001b[0;32mfrom\u001b[0m \u001b[0me\u001b[0m\u001b[0;34m\u001b[0m\u001b[0;34m\u001b[0m\u001b[0m\n\u001b[0m\u001b[1;32m    568\u001b[0m     \u001b[0;32mreturn\u001b[0m \u001b[0mresult\u001b[0m\u001b[0;34m,\u001b[0m \u001b[0mcolumns\u001b[0m\u001b[0;34m\u001b[0m\u001b[0;34m\u001b[0m\u001b[0m\n\u001b[1;32m    569\u001b[0m \u001b[0;34m\u001b[0m\u001b[0m\n",
      "\u001b[0;31mValueError\u001b[0m: 1 columns passed, passed data had 2 columns"
     ]
    }
   ],
   "source": [
    "# Convert your results into a pandas DataFrame with date as index.\n",
    "df = pd.DataFrame(session.query(Measurement.prcp, func.avg(Measurement.prcp)).\\\n",
    "    order_by(Measurement.date.desc()).group_by(Measurement.date).limit(365))"
   ]
  },
  {
   "cell_type": "code",
   "execution_count": 39,
   "metadata": {},
   "outputs": [
    {
     "data": {
      "text/html": [
       "<div>\n",
       "<style scoped>\n",
       "    .dataframe tbody tr th:only-of-type {\n",
       "        vertical-align: middle;\n",
       "    }\n",
       "\n",
       "    .dataframe tbody tr th {\n",
       "        vertical-align: top;\n",
       "    }\n",
       "\n",
       "    .dataframe thead th {\n",
       "        text-align: right;\n",
       "    }\n",
       "</style>\n",
       "<table border=\"1\" class=\"dataframe\">\n",
       "  <thead>\n",
       "    <tr style=\"text-align: right;\">\n",
       "      <th></th>\n",
       "      <th>date</th>\n",
       "      <th>prcp</th>\n",
       "    </tr>\n",
       "  </thead>\n",
       "  <tbody>\n",
       "    <tr>\n",
       "      <th>0</th>\n",
       "      <td>2017-08-23</td>\n",
       "      <td>0.00</td>\n",
       "    </tr>\n",
       "    <tr>\n",
       "      <th>1</th>\n",
       "      <td>2017-08-23</td>\n",
       "      <td>0.00</td>\n",
       "    </tr>\n",
       "    <tr>\n",
       "      <th>2</th>\n",
       "      <td>2017-08-23</td>\n",
       "      <td>0.08</td>\n",
       "    </tr>\n",
       "    <tr>\n",
       "      <th>3</th>\n",
       "      <td>2017-08-23</td>\n",
       "      <td>0.45</td>\n",
       "    </tr>\n",
       "    <tr>\n",
       "      <th>4</th>\n",
       "      <td>2017-08-22</td>\n",
       "      <td>0.00</td>\n",
       "    </tr>\n",
       "    <tr>\n",
       "      <th>5</th>\n",
       "      <td>2017-08-22</td>\n",
       "      <td>0.00</td>\n",
       "    </tr>\n",
       "    <tr>\n",
       "      <th>6</th>\n",
       "      <td>2017-08-22</td>\n",
       "      <td>0.50</td>\n",
       "    </tr>\n",
       "    <tr>\n",
       "      <th>7</th>\n",
       "      <td>2017-08-21</td>\n",
       "      <td>0.00</td>\n",
       "    </tr>\n",
       "    <tr>\n",
       "      <th>8</th>\n",
       "      <td>2017-08-21</td>\n",
       "      <td>0.02</td>\n",
       "    </tr>\n",
       "    <tr>\n",
       "      <th>9</th>\n",
       "      <td>2017-08-21</td>\n",
       "      <td>NaN</td>\n",
       "    </tr>\n",
       "    <tr>\n",
       "      <th>10</th>\n",
       "      <td>2017-08-21</td>\n",
       "      <td>0.56</td>\n",
       "    </tr>\n",
       "    <tr>\n",
       "      <th>11</th>\n",
       "      <td>2017-08-20</td>\n",
       "      <td>0.00</td>\n",
       "    </tr>\n",
       "    <tr>\n",
       "      <th>12</th>\n",
       "      <td>2017-08-20</td>\n",
       "      <td>0.01</td>\n",
       "    </tr>\n",
       "  </tbody>\n",
       "</table>\n",
       "</div>"
      ],
      "text/plain": [
       "          date  prcp\n",
       "0   2017-08-23  0.00\n",
       "1   2017-08-23  0.00\n",
       "2   2017-08-23  0.08\n",
       "3   2017-08-23  0.45\n",
       "4   2017-08-22  0.00\n",
       "5   2017-08-22  0.00\n",
       "6   2017-08-22  0.50\n",
       "7   2017-08-21  0.00\n",
       "8   2017-08-21  0.02\n",
       "9   2017-08-21   NaN\n",
       "10  2017-08-21  0.56\n",
       "11  2017-08-20  0.00\n",
       "12  2017-08-20  0.01"
      ]
     },
     "execution_count": 39,
     "metadata": {},
     "output_type": "execute_result"
    }
   ],
   "source": [
    "df.head(13)"
   ]
  },
  {
   "cell_type": "code",
   "execution_count": 38,
   "metadata": {},
   "outputs": [
    {
     "data": {
      "image/png": "[encoded data removed]",
      "text/plain": [
       "<Figure size 432x288 with 1 Axes>"
      ]
     },
     "metadata": {},
     "output_type": "display_data"
    }
   ],
   "source": [
    "# Use Pandas Plotting with Matplotlib to plot the data\n",
    "plt.bar(df['date'], df['prcp'])\n",
    "plt.show()"
   ]
  },
  {
   "cell_type": "code",
   "execution_count": null,
   "metadata": {},
   "outputs": [],
   "source": [
    "# Use Pandas to calculate the summary statistics for the precipitation data"
   ]
  },
  {
   "cell_type": "markdown",
   "metadata": {},
   "source": [
    "# Exploratory Station Analysis"
   ]
  },
  {
   "cell_type": "code",
   "execution_count": null,
   "metadata": {},
   "outputs": [],
   "source": [
    "# Query total number of stations in dataset\n"
   ]
  },
  {
   "cell_type": "code",
   "execution_count": null,
   "metadata": {},
   "outputs": [],
   "source": [
    "# What are the most active stations? (i.e. what stations have the most rows)?\n",
    "# List the stations and the counts in descending order.\n"
   ]
  },
  {
   "cell_type": "code",
   "execution_count": null,
   "metadata": {},
   "outputs": [],
   "source": [
    "# Using the station id from the previous query, calculate the lowest, \n",
    "# highest, and average temperature recorded for this station.\n"
   ]
  },
  {
   "cell_type": "code",
   "execution_count": null,
   "metadata": {},
   "outputs": [],
   "source": [
    "# Query the last 12 months of temperature observation data for this station.\n",
    "# Plot the results as a histogram with bins = 12.\n"
   ]
  },
  {
   "cell_type": "markdown",
   "metadata": {},
   "source": [
    "# Close session"
   ]
  },
  {
   "cell_type": "code",
   "execution_count": null,
   "metadata": {},
   "outputs": [],
   "source": []
  }
 ],
 "metadata": {
  "finalized": {
   "timestamp": 1622725208764,
   "trusted": false
  },
  "kernel_info": {
   "name": "python3"
  },
  "kernelspec": {
   "display_name": "Python 3",
   "language": "python",
   "name": "python3"
  },
  "language_info": {
   "codemirror_mode": {
    "name": "ipython",
    "version": 3
   },
   "file_extension": ".py",
   "mimetype": "text/x-python",
   "name": "python",
   "nbconvert_exporter": "python",
   "pygments_lexer": "ipython3",
   "version": "3.8.5"
  },
  "nteract": {
   "version": "0.12.3"
  },
  "toc": {
   "base_numbering": 1,
   "nav_menu": {},
   "number_sections": true,
   "sideBar": true,
   "skip_h1_title": false,
   "title_cell": "Table of Contents",
   "title_sidebar": "Contents",
   "toc_cell": false,
   "toc_position": {},
   "toc_section_display": true,
   "toc_window_display": false
  },
  "varInspector": {
   "cols": {
    "lenName": 16,
    "lenType": 16,
    "lenVar": 40
   },
   "kernels_config": {
    "python": {
     "delete_cmd_postfix": "",
     "delete_cmd_prefix": "del ",
     "library": "var_list.py",
     "varRefreshCmd": "print(var_dic_list())"
    },
    "r": {
     "delete_cmd_postfix": ") ",
     "delete_cmd_prefix": "rm(",
     "library": "var_list.r",
     "varRefreshCmd": "cat(var_dic_list()) "
    }
   },
   "types_to_exclude": [
    "module",
    "function",
    "builtin_function_or_method",
    "instance",
    "_Feature"
   ],
   "window_display": false
  }
 },
 "nbformat": 4,
 "nbformat_minor": 2
}
